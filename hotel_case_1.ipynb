{
  "nbformat": 4,
  "nbformat_minor": 0,
  "metadata": {
    "colab": {
      "name": "hotel case 1",
      "provenance": [],
      "collapsed_sections": [],
      "authorship_tag": "ABX9TyPKUtjD2h4QaUtaY2Ap1PKe",
      "include_colab_link": true
    },
    "kernelspec": {
      "name": "python3",
      "display_name": "Python 3"
    }
  },
  "cells": [
    {
      "cell_type": "markdown",
      "metadata": {
        "id": "view-in-github",
        "colab_type": "text"
      },
      "source": [
        "<a href=\"https://colab.research.google.com/github/tskkeimashi/hotel_recommender/blob/main/hotel_case_1.ipynb\" target=\"_parent\"><img src=\"https://colab.research.google.com/assets/colab-badge.svg\" alt=\"Open In Colab\"/></a>"
      ]
    },
    {
      "cell_type": "code",
      "metadata": {
        "id": "c1vH6XJVzzWi"
      },
      "source": [
        "import pandas as pd\r\n",
        "import numpy as np\r\n",
        "\r\n",
        "hoteldf = pd.read_excel('data_hotel.xlsx', index_col=0)\r\n",
        "reviewdf = pd.read_excel('review_hotel.xlsx', index_col=0)"
      ],
      "execution_count": 87,
      "outputs": []
    },
    {
      "cell_type": "code",
      "metadata": {
        "colab": {
          "base_uri": "https://localhost:8080/"
        },
        "id": "gQH6DhEQ0eoH",
        "outputId": "8b0366f9-1de9-4291-8e14-28bf4ef0647f"
      },
      "source": [
        "print(hoteldf.head())\r\n",
        "print('\\n')\r\n",
        "print(hoteldf.info())"
      ],
      "execution_count": 88,
      "outputs": [
        {
          "output_type": "stream",
          "text": [
            "                                       hotel_name  ... price_per_night\n",
            "hotel_id                                           ...                \n",
            "h0001     Midtown Residence Marvell City Surabaya  ...   527866.666667\n",
            "h0002              favehotel Graha Agung Surabaya  ...   442860.000000\n",
            "h0003                      The Sun Hotel Sidoarjo  ...   305000.000000\n",
            "h0004                        Grand Surabaya Hotel  ...   324999.333333\n",
            "h0005                      The WIN Hotel Surabaya  ...   310947.250000\n",
            "\n",
            "[5 rows x 6 columns]\n",
            "\n",
            "\n",
            "<class 'pandas.core.frame.DataFrame'>\n",
            "Index: 1199 entries, h0001 to h1199\n",
            "Data columns (total 6 columns):\n",
            " #   Column             Non-Null Count  Dtype  \n",
            "---  ------             --------------  -----  \n",
            " 0   hotel_name         1199 non-null   object \n",
            " 1   hotel_description  1098 non-null   object \n",
            " 2   hotel_province     1199 non-null   object \n",
            " 3   hotel_city         1199 non-null   object \n",
            " 4   hotel_address      1199 non-null   object \n",
            " 5   price_per_night    1193 non-null   float64\n",
            "dtypes: float64(1), object(5)\n",
            "memory usage: 65.6+ KB\n",
            "None\n"
          ],
          "name": "stdout"
        }
      ]
    },
    {
      "cell_type": "code",
      "metadata": {
        "colab": {
          "base_uri": "https://localhost:8080/"
        },
        "id": "s7okkogH0kpz",
        "outputId": "65e9d612-43df-4c98-bf40-2cb4f1634444"
      },
      "source": [
        "print(hoteldf.isnull().sum())"
      ],
      "execution_count": 89,
      "outputs": [
        {
          "output_type": "stream",
          "text": [
            "hotel_name             0\n",
            "hotel_description    101\n",
            "hotel_province         0\n",
            "hotel_city             0\n",
            "hotel_address          0\n",
            "price_per_night        6\n",
            "dtype: int64\n"
          ],
          "name": "stdout"
        }
      ]
    },
    {
      "cell_type": "code",
      "metadata": {
        "colab": {
          "base_uri": "https://localhost:8080/"
        },
        "id": "gIbHHxDx1BcD",
        "outputId": "61fcb7ef-e9bb-43ad-e37f-cd2ea83961e2"
      },
      "source": [
        "print(hoteldf.loc[(hoteldf['hotel_description'].isnull()) | (hoteldf['price_per_night'].isnull())])"
      ],
      "execution_count": 90,
      "outputs": [
        {
          "output_type": "stream",
          "text": [
            "                                       hotel_name  ... price_per_night\n",
            "hotel_id                                           ...                \n",
            "h0001     Midtown Residence Marvell City Surabaya  ...   527866.666667\n",
            "h0027             ibis budget Surabaya Diponegoro  ...   206232.000000\n",
            "h0042                       Citra Suites Surabaya  ...   237500.000000\n",
            "h0048              Novotel Surabaya Hotel & Suite  ...   545522.000000\n",
            "h0049              Novotel Samator Surabaya Timur  ...   616038.500000\n",
            "...                                           ...  ...             ...\n",
            "h0435                   OYO 990 Stadion Residence  ...    85326.500000\n",
            "h0436                           OYO 552 Raz House  ...   428106.250000\n",
            "h0437             OYO 711 Salam Residence Syariah  ...             NaN\n",
            "h0438                OYO 1371 Carofin Guest House  ...   118132.000000\n",
            "h0439                           Grand Delta Hotel  ...   756250.000000\n",
            "\n",
            "[101 rows x 6 columns]\n"
          ],
          "name": "stdout"
        }
      ]
    },
    {
      "cell_type": "code",
      "metadata": {
        "colab": {
          "base_uri": "https://localhost:8080/"
        },
        "id": "A1G4UCO31TxA",
        "outputId": "4167347a-4005-49c8-d0da-6afe77eec50e"
      },
      "source": [
        "hoteldf = hoteldf.loc[(hoteldf['hotel_description'].notnull()) & (hoteldf['price_per_night'].notnull())]\r\n",
        "print(len(hoteldf))"
      ],
      "execution_count": 91,
      "outputs": [
        {
          "output_type": "stream",
          "text": [
            "1098\n"
          ],
          "name": "stdout"
        }
      ]
    },
    {
      "cell_type": "code",
      "metadata": {
        "colab": {
          "base_uri": "https://localhost:8080/"
        },
        "id": "A7UDaYGk1pDQ",
        "outputId": "f37b0000-93ef-4be7-98a7-f1c44e273e19"
      },
      "source": [
        "print(hoteldf.isnull().sum())"
      ],
      "execution_count": 92,
      "outputs": [
        {
          "output_type": "stream",
          "text": [
            "hotel_name           0\n",
            "hotel_description    0\n",
            "hotel_province       0\n",
            "hotel_city           0\n",
            "hotel_address        0\n",
            "price_per_night      0\n",
            "dtype: int64\n"
          ],
          "name": "stdout"
        }
      ]
    },
    {
      "cell_type": "code",
      "metadata": {
        "colab": {
          "base_uri": "https://localhost:8080/"
        },
        "id": "FZnezYHM1tmY",
        "outputId": "29181ae7-2e50-4b7c-d31f-81c8240fd346"
      },
      "source": [
        "print(hoteldf['hotel_name'].nunique())\r\n",
        "print(hoteldf['hotel_description'].nunique())\r\n",
        "print(hoteldf['hotel_province'].nunique())\r\n",
        "print(hoteldf['hotel_city'].nunique())\r\n",
        "print(hoteldf['hotel_address'].nunique())\r\n",
        "print(hoteldf['price_per_night'].nunique())"
      ],
      "execution_count": 93,
      "outputs": [
        {
          "output_type": "stream",
          "text": [
            "1098\n",
            "1016\n",
            "6\n",
            "12\n",
            "1098\n",
            "893\n"
          ],
          "name": "stdout"
        }
      ]
    },
    {
      "cell_type": "code",
      "metadata": {
        "colab": {
          "base_uri": "https://localhost:8080/",
          "height": 501
        },
        "id": "GzC0QUCuFbPE",
        "outputId": "47eb0ae9-f34e-440b-fede-ef1d9c5a7e7b"
      },
      "source": [
        "hoteldf.drop(['hotel_description', 'hotel_address'], axis=1)"
      ],
      "execution_count": 97,
      "outputs": [
        {
          "output_type": "execute_result",
          "data": {
            "text/html": [
              "<div>\n",
              "<style scoped>\n",
              "    .dataframe tbody tr th:only-of-type {\n",
              "        vertical-align: middle;\n",
              "    }\n",
              "\n",
              "    .dataframe tbody tr th {\n",
              "        vertical-align: top;\n",
              "    }\n",
              "\n",
              "    .dataframe thead th {\n",
              "        text-align: right;\n",
              "    }\n",
              "</style>\n",
              "<table border=\"1\" class=\"dataframe\">\n",
              "  <thead>\n",
              "    <tr style=\"text-align: right;\">\n",
              "      <th></th>\n",
              "      <th>hotel_name</th>\n",
              "      <th>hotel_province</th>\n",
              "      <th>hotel_city</th>\n",
              "      <th>price_per_night</th>\n",
              "    </tr>\n",
              "    <tr>\n",
              "      <th>hotel_id</th>\n",
              "      <th></th>\n",
              "      <th></th>\n",
              "      <th></th>\n",
              "      <th></th>\n",
              "    </tr>\n",
              "  </thead>\n",
              "  <tbody>\n",
              "    <tr>\n",
              "      <th>h0002</th>\n",
              "      <td>favehotel Graha Agung Surabaya</td>\n",
              "      <td>Jawa Timur</td>\n",
              "      <td>Surabaya</td>\n",
              "      <td>442860.000000</td>\n",
              "    </tr>\n",
              "    <tr>\n",
              "      <th>h0003</th>\n",
              "      <td>The Sun Hotel Sidoarjo</td>\n",
              "      <td>Jawa Timur</td>\n",
              "      <td>Surabaya</td>\n",
              "      <td>305000.000000</td>\n",
              "    </tr>\n",
              "    <tr>\n",
              "      <th>h0004</th>\n",
              "      <td>Grand Surabaya Hotel</td>\n",
              "      <td>Jawa Timur</td>\n",
              "      <td>Surabaya</td>\n",
              "      <td>324999.333333</td>\n",
              "    </tr>\n",
              "    <tr>\n",
              "      <th>h0005</th>\n",
              "      <td>The WIN Hotel Surabaya</td>\n",
              "      <td>Jawa Timur</td>\n",
              "      <td>Surabaya</td>\n",
              "      <td>310947.250000</td>\n",
              "    </tr>\n",
              "    <tr>\n",
              "      <th>h0006</th>\n",
              "      <td>POP! Hotel Stasiun Kota Surabaya</td>\n",
              "      <td>Jawa Timur</td>\n",
              "      <td>Surabaya</td>\n",
              "      <td>276333.333333</td>\n",
              "    </tr>\n",
              "    <tr>\n",
              "      <th>...</th>\n",
              "      <td>...</td>\n",
              "      <td>...</td>\n",
              "      <td>...</td>\n",
              "      <td>...</td>\n",
              "    </tr>\n",
              "    <tr>\n",
              "      <th>h1195</th>\n",
              "      <td>Restu Hotel Yogyakarta</td>\n",
              "      <td>Daerah Istimewa Yogyakarta</td>\n",
              "      <td>Jogja</td>\n",
              "      <td>150000.000000</td>\n",
              "    </tr>\n",
              "    <tr>\n",
              "      <th>h1196</th>\n",
              "      <td>Oryza Hotel Malioboro</td>\n",
              "      <td>Daerah Istimewa Yogyakarta</td>\n",
              "      <td>Jogja</td>\n",
              "      <td>180000.000000</td>\n",
              "    </tr>\n",
              "    <tr>\n",
              "      <th>h1197</th>\n",
              "      <td>Hotel Asri Graha Yogyakarta</td>\n",
              "      <td>Daerah Istimewa Yogyakarta</td>\n",
              "      <td>Jogja</td>\n",
              "      <td>262500.000000</td>\n",
              "    </tr>\n",
              "    <tr>\n",
              "      <th>h1198</th>\n",
              "      <td>Tasneem Convention Hotel Yogyakarta</td>\n",
              "      <td>Daerah Istimewa Yogyakarta</td>\n",
              "      <td>Jogja</td>\n",
              "      <td>391666.666667</td>\n",
              "    </tr>\n",
              "    <tr>\n",
              "      <th>h1199</th>\n",
              "      <td>Pesonna Hotel Tugu Yogyakarta</td>\n",
              "      <td>Daerah Istimewa Yogyakarta</td>\n",
              "      <td>Jogja</td>\n",
              "      <td>338074.666667</td>\n",
              "    </tr>\n",
              "  </tbody>\n",
              "</table>\n",
              "<p>1098 rows × 4 columns</p>\n",
              "</div>"
            ],
            "text/plain": [
              "                                   hotel_name  ... price_per_night\n",
              "hotel_id                                       ...                \n",
              "h0002          favehotel Graha Agung Surabaya  ...   442860.000000\n",
              "h0003                  The Sun Hotel Sidoarjo  ...   305000.000000\n",
              "h0004                    Grand Surabaya Hotel  ...   324999.333333\n",
              "h0005                  The WIN Hotel Surabaya  ...   310947.250000\n",
              "h0006        POP! Hotel Stasiun Kota Surabaya  ...   276333.333333\n",
              "...                                       ...  ...             ...\n",
              "h1195                  Restu Hotel Yogyakarta  ...   150000.000000\n",
              "h1196                   Oryza Hotel Malioboro  ...   180000.000000\n",
              "h1197             Hotel Asri Graha Yogyakarta  ...   262500.000000\n",
              "h1198     Tasneem Convention Hotel Yogyakarta  ...   391666.666667\n",
              "h1199           Pesonna Hotel Tugu Yogyakarta  ...   338074.666667\n",
              "\n",
              "[1098 rows x 4 columns]"
            ]
          },
          "metadata": {
            "tags": []
          },
          "execution_count": 97
        }
      ]
    },
    {
      "cell_type": "code",
      "metadata": {
        "colab": {
          "base_uri": "https://localhost:8080/"
        },
        "id": "UO9eDUlDFof_",
        "outputId": "2c4316ba-9629-4afc-b904-10517a548a9a"
      },
      "source": [
        "print(hoteldf.info())"
      ],
      "execution_count": 98,
      "outputs": [
        {
          "output_type": "stream",
          "text": [
            "<class 'pandas.core.frame.DataFrame'>\n",
            "Index: 1098 entries, h0002 to h1199\n",
            "Data columns (total 6 columns):\n",
            " #   Column             Non-Null Count  Dtype  \n",
            "---  ------             --------------  -----  \n",
            " 0   hotel_name         1098 non-null   object \n",
            " 1   hotel_description  1098 non-null   object \n",
            " 2   hotel_province     1098 non-null   object \n",
            " 3   hotel_city         1098 non-null   object \n",
            " 4   hotel_address      1098 non-null   object \n",
            " 5   price_per_night    1098 non-null   float64\n",
            "dtypes: float64(1), object(5)\n",
            "memory usage: 100.0+ KB\n",
            "None\n"
          ],
          "name": "stdout"
        }
      ]
    },
    {
      "cell_type": "code",
      "metadata": {
        "colab": {
          "base_uri": "https://localhost:8080/"
        },
        "id": "EAieOjIi2Rk_",
        "outputId": "56be39db-80ea-4a38-ae0f-ebe688dac786"
      },
      "source": [
        "print(reviewdf.head())"
      ],
      "execution_count": 99,
      "outputs": [
        {
          "output_type": "stream",
          "text": [
            "           booking_date hotel_id  ... rating                    review\n",
            "booking_id                        ...                                 \n",
            "b0001        19-04-2020    h0014  ...    8.4                Short stay\n",
            "b0002        06-04-2020    h0014  ...   10.0           Hotelnya nyaman\n",
            "b0003        24-03-2020    h0014  ...    9.2  Cukup baik untuk transit\n",
            "b0004        23-03-2020    h0014  ...    9.2                    Nyaman\n",
            "b0005        14-03-2020    h0014  ...    6.8                  Not good\n",
            "\n",
            "[5 rows x 8 columns]\n"
          ],
          "name": "stdout"
        }
      ]
    },
    {
      "cell_type": "code",
      "metadata": {
        "colab": {
          "base_uri": "https://localhost:8080/"
        },
        "id": "_z2hYCSB2eCc",
        "outputId": "8788fdf4-5b87-453f-fec7-24a4ee897abb"
      },
      "source": [
        "print(reviewdf.info())"
      ],
      "execution_count": 100,
      "outputs": [
        {
          "output_type": "stream",
          "text": [
            "<class 'pandas.core.frame.DataFrame'>\n",
            "Index: 4306 entries, b0001 to b4306\n",
            "Data columns (total 8 columns):\n",
            " #   Column         Non-Null Count  Dtype  \n",
            "---  ------         --------------  -----  \n",
            " 0   booking_date   4306 non-null   object \n",
            " 1   hotel_id       3833 non-null   object \n",
            " 2   hotel_name     4306 non-null   object \n",
            " 3   stay_duration  4306 non-null   int64  \n",
            " 4   adults         4306 non-null   int64  \n",
            " 5   children       4306 non-null   int64  \n",
            " 6   rating         4306 non-null   float64\n",
            " 7   review         4306 non-null   object \n",
            "dtypes: float64(1), int64(3), object(4)\n",
            "memory usage: 302.8+ KB\n",
            "None\n"
          ],
          "name": "stdout"
        }
      ]
    },
    {
      "cell_type": "code",
      "metadata": {
        "colab": {
          "base_uri": "https://localhost:8080/"
        },
        "id": "8-MPzeGh20-c",
        "outputId": "d96aaf50-01d1-4fc9-bc9f-7c517d447b34"
      },
      "source": [
        "reviewdf = reviewdf.drop(['hotel_id', 'booking_date','stay_duration','review'], axis=1)\r\n",
        "print(reviewdf.shape)"
      ],
      "execution_count": 101,
      "outputs": [
        {
          "output_type": "stream",
          "text": [
            "(4306, 4)\n"
          ],
          "name": "stdout"
        }
      ]
    },
    {
      "cell_type": "code",
      "metadata": {
        "colab": {
          "base_uri": "https://localhost:8080/"
        },
        "id": "cCONbPH06FF_",
        "outputId": "41fa6ffe-c3c8-4fdd-a816-194dd12850db"
      },
      "source": [
        "hotelreview = pd.merge(hoteldf, reviewdf, on='hotel_name', how='left')\r\n",
        "print(hotelreview.tail())\r\n",
        "print(hotelreview.info())"
      ],
      "execution_count": 107,
      "outputs": [
        {
          "output_type": "stream",
          "text": [
            "                               hotel_name  ... rating\n",
            "4496               Restu Hotel Yogyakarta  ...    NaN\n",
            "4497                Oryza Hotel Malioboro  ...    NaN\n",
            "4498          Hotel Asri Graha Yogyakarta  ...    NaN\n",
            "4499  Tasneem Convention Hotel Yogyakarta  ...    NaN\n",
            "4500        Pesonna Hotel Tugu Yogyakarta  ...    NaN\n",
            "\n",
            "[5 rows x 9 columns]\n",
            "<class 'pandas.core.frame.DataFrame'>\n",
            "Int64Index: 4501 entries, 0 to 4500\n",
            "Data columns (total 9 columns):\n",
            " #   Column             Non-Null Count  Dtype  \n",
            "---  ------             --------------  -----  \n",
            " 0   hotel_name         4501 non-null   object \n",
            " 1   hotel_description  4501 non-null   object \n",
            " 2   hotel_province     4501 non-null   object \n",
            " 3   hotel_city         4501 non-null   object \n",
            " 4   hotel_address      4501 non-null   object \n",
            " 5   price_per_night    4501 non-null   float64\n",
            " 6   adults             3807 non-null   float64\n",
            " 7   children           3807 non-null   float64\n",
            " 8   rating             3807 non-null   float64\n",
            "dtypes: float64(4), object(5)\n",
            "memory usage: 351.6+ KB\n",
            "None\n"
          ],
          "name": "stdout"
        }
      ]
    },
    {
      "cell_type": "code",
      "metadata": {
        "colab": {
          "base_uri": "https://localhost:8080/"
        },
        "id": "4r_F7EN-JEk8",
        "outputId": "848544ee-364b-46d3-b8b3-71e2cc7d5ad4"
      },
      "source": [
        "hotelreview['adults'] = hotelreview['adults'].fillna(hotelreview['adults'].median())\r\n",
        "hotelreview['children'] = hotelreview['children'].fillna(hotelreview['children'].median())\r\n",
        "hotelreview['rating'] = hotelreview['rating'].fillna(hotelreview['rating'].mean())\r\n",
        "print(hotelreview.tail())"
      ],
      "execution_count": 117,
      "outputs": [
        {
          "output_type": "stream",
          "text": [
            "                               hotel_name  ... rating\n",
            "4496               Restu Hotel Yogyakarta  ...    8.0\n",
            "4497                Oryza Hotel Malioboro  ...    8.0\n",
            "4498          Hotel Asri Graha Yogyakarta  ...    8.0\n",
            "4499  Tasneem Convention Hotel Yogyakarta  ...    8.0\n",
            "4500        Pesonna Hotel Tugu Yogyakarta  ...    8.0\n",
            "\n",
            "[5 rows x 9 columns]\n"
          ],
          "name": "stdout"
        }
      ]
    },
    {
      "cell_type": "code",
      "metadata": {
        "colab": {
          "base_uri": "https://localhost:8080/"
        },
        "id": "cr1Zk4hhF_aJ",
        "outputId": "0fd54dc5-2913-4889-db60-e78fba628589"
      },
      "source": [
        "print(hotelreview['hotel_name'].nunique())"
      ],
      "execution_count": 118,
      "outputs": [
        {
          "output_type": "stream",
          "text": [
            "1098\n"
          ],
          "name": "stdout"
        }
      ]
    },
    {
      "cell_type": "code",
      "metadata": {
        "colab": {
          "base_uri": "https://localhost:8080/"
        },
        "id": "xUj-NY8n6R3h",
        "outputId": "06f67eb2-28d2-493c-9929-5eb1d382d6a8"
      },
      "source": [
        "C = hotelreview['rating'].mean()\r\n",
        "print(C)"
      ],
      "execution_count": 136,
      "outputs": [
        {
          "output_type": "stream",
          "text": [
            "8.375738724727801\n"
          ],
          "name": "stdout"
        }
      ]
    },
    {
      "cell_type": "code",
      "metadata": {
        "colab": {
          "base_uri": "https://localhost:8080/"
        },
        "id": "VgWUFqHe6olC",
        "outputId": "de8d7338-c69f-4fe0-e199-8215430baaae"
      },
      "source": [
        "def simple_recommender(df, top=50):\r\n",
        "  df = df.sort_values(by=['price_per_night','rating'], ascending = False)\r\n",
        "  df = df[:top]\r\n",
        "  return df\r\n",
        "\r\n",
        "print(simple_recommender(hotelreview, top=10))"
      ],
      "execution_count": 137,
      "outputs": [
        {
          "output_type": "stream",
          "text": [
            "                      hotel_name  ... rating\n",
            "2085  Four Seasons Hotel Jakarta  ...    8.0\n",
            "2937           Hotel Desa Wisata  ...   10.0\n",
            "2940           Hotel Desa Wisata  ...    8.4\n",
            "2941           Hotel Desa Wisata  ...    8.0\n",
            "2938           Hotel Desa Wisata  ...    6.8\n",
            "2936           Hotel Desa Wisata  ...    6.0\n",
            "2939           Hotel Desa Wisata  ...    5.2\n",
            "1954        Sari Pacific Jakarta  ...    9.6\n",
            "1952        Sari Pacific Jakarta  ...    9.2\n",
            "1950        Sari Pacific Jakarta  ...    8.0\n",
            "\n",
            "[10 rows x 9 columns]\n"
          ],
          "name": "stdout"
        }
      ]
    },
    {
      "cell_type": "code",
      "metadata": {
        "colab": {
          "base_uri": "https://localhost:8080/"
        },
        "id": "6b6LCrcS7dSr",
        "outputId": "e97cda62-5061-4f11-f847-6f4e91a37b3a"
      },
      "source": [
        "df = hotelreview.copy()\r\n",
        "\r\n",
        "def user_prefer_recommender(df, ask_fam, ask_prov, ask_kota, top=50):\r\n",
        "  #ask_fam\r\n",
        "  if ask_fam.lower() == 'ya':\r\n",
        "    df = df.loc[df['adults'] > 1 & df['children'] > 0]\r\n",
        "  else:\r\n",
        "    df\r\n",
        "  \r\n",
        "  #ask_prov\r\n",
        "  def filter_prov(x):\r\n",
        "    if ask_prov.lower() in str(x).lower():\r\n",
        "      return True\r\n",
        "    else:\r\n",
        "      return False\r\n",
        "    df = df.loc[df['hotel_province'].apply(lambda x: filter_prov(x))]\r\n",
        "  \r\n",
        "  def filter_kota(y):\r\n",
        "    if ask_kota.lower() in str(y).lower():\r\n",
        "      return True\r\n",
        "    else:\r\n",
        "      return False\r\n",
        "    df = df.loc[df['hotel_city'].apply(lambda y: filter_kota(y))]\r\n",
        "  \r\n",
        "  df = df.sort_values(by=['price_per_night','rating'], ascending=False)\r\n",
        "  df = df[:top]\r\n",
        "  return df.groupby('hotel_name')['rating', 'price_per_night'].mean()\r\n",
        "\r\n",
        "print(user_prefer_recommender(df, ask_fam='yes',ask_prov='jawa timur', ask_kota='surabaya'))"
      ],
      "execution_count": 144,
      "outputs": [
        {
          "output_type": "stream",
          "text": [
            "                                     rating  price_per_night\n",
            "hotel_name                                                  \n",
            "AYANA Midplaza Jakarta                 9.44     2.078628e+06\n",
            "Dewata Sky Lembong 23                  8.00     2.137500e+06\n",
            "Four Seasons Hotel Jakarta             8.00     4.047661e+06\n",
            "Hotel Desa Wisata                      7.40     2.648067e+06\n",
            "Hotel Tugu Malang                      8.00     1.796849e+06\n",
            "Imperium Hotel Bandung                 8.00     2.000000e+06\n",
            "InterContinental Bandung Dago Pakar    9.52     1.646185e+06\n",
            "Kristal Hotel Jakarta                  9.84     1.570524e+06\n",
            "Kytos Hotel                            8.00     1.600000e+06\n",
            "Meloh Cafe & Tent                      8.00     1.625000e+06\n",
            "Mulberry Hill By The Lodge             8.00     2.000000e+06\n",
            "Sari Pacific Jakarta                   8.56     2.638071e+06\n",
            "Travello Hotel Bandung                 8.00     1.937500e+06\n",
            "Vasa Hotel Surabaya                    8.00     1.597200e+06\n"
          ],
          "name": "stdout"
        },
        {
          "output_type": "stream",
          "text": [
            "/usr/local/lib/python3.6/dist-packages/ipykernel_launcher.py:27: FutureWarning: Indexing with multiple keys (implicitly converted to a tuple of keys) will be deprecated, use a list instead.\n"
          ],
          "name": "stderr"
        }
      ]
    },
    {
      "cell_type": "code",
      "metadata": {
        "id": "edm69RHn972r"
      },
      "source": [
        ""
      ],
      "execution_count": null,
      "outputs": []
    }
  ]
}